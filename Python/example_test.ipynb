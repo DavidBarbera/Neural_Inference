{
 "cells": [
  {
   "cell_type": "code",
   "execution_count": 1,
   "metadata": {},
   "outputs": [],
   "source": [
    "import soundfile as sf\n",
    "import neural_inference.ni as ni"
   ]
  },
  {
   "cell_type": "code",
   "execution_count": 2,
   "metadata": {},
   "outputs": [],
   "source": [
    "wavfile1 = \"sample_audios/Andrew1.wav\"\n",
    "wavfile2 = \"sample_audios/Andrew2.wav\"\n",
    "\n",
    "\n",
    "y1, sr1 = sf.read(wavfile1)\n",
    "y2, sr2 = sf.read(wavfile2)\n",
    "\n",
    "pp1=ni.embeddings(y1, sr1)\n",
    "pp2=ni.embeddings(y2, sr2)\n",
    "\n",
    "dtw = ni.dtw(pp1,pp2)"
   ]
  },
  {
   "cell_type": "code",
   "execution_count": 3,
   "metadata": {},
   "outputs": [
    {
     "data": {
      "text/plain": [
       "0.16296175122261047"
      ]
     },
     "execution_count": 3,
     "metadata": {},
     "output_type": "execute_result"
    }
   ],
   "source": [
    "dtw"
   ]
  },
  {
   "cell_type": "code",
   "execution_count": 4,
   "metadata": {},
   "outputs": [
    {
     "data": {
      "text/plain": [
       "0.15673048794269562"
      ]
     },
     "execution_count": 4,
     "metadata": {},
     "output_type": "execute_result"
    }
   ],
   "source": [
    "ni.dtw_wavs(wavfile1,wavfile2)"
   ]
  },
  {
   "cell_type": "code",
   "execution_count": 5,
   "metadata": {},
   "outputs": [],
   "source": [
    "y1, sr1 = ni.mh_read_wav(wavfile1)\n",
    "y2, sr2 = ni.mh_read_wav(wavfile2)\n",
    "\n",
    "pp1=ni.embeddings(y1, sr1)\n",
    "pp2=ni.embeddings(y2, sr2)\n",
    "\n",
    "dtw = ni.dtw(pp1,pp2)"
   ]
  },
  {
   "cell_type": "code",
   "execution_count": 6,
   "metadata": {},
   "outputs": [
    {
     "data": {
      "text/plain": [
       "0.15673048794269562"
      ]
     },
     "execution_count": 6,
     "metadata": {},
     "output_type": "execute_result"
    }
   ],
   "source": [
    "dtw"
   ]
  },
  {
   "cell_type": "code",
   "execution_count": null,
   "metadata": {},
   "outputs": [],
   "source": []
  }
 ],
 "metadata": {
  "kernelspec": {
   "display_name": "Python [conda env:dl]",
   "language": "python",
   "name": "conda-env-dl-py"
  },
  "language_info": {
   "codemirror_mode": {
    "name": "ipython",
    "version": 3
   },
   "file_extension": ".py",
   "mimetype": "text/x-python",
   "name": "python",
   "nbconvert_exporter": "python",
   "pygments_lexer": "ipython3",
   "version": "3.6.11"
  }
 },
 "nbformat": 4,
 "nbformat_minor": 4
}
